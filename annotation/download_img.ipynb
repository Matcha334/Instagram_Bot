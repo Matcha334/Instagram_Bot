{
 "cells": [
  {
   "cell_type": "code",
   "execution_count": 5,
   "metadata": {},
   "outputs": [],
   "source": [
    "import pandas as pd\n",
    "import urllib.request as req\n",
    "import os "
   ]
  },
  {
   "cell_type": "code",
   "execution_count": 6,
   "metadata": {},
   "outputs": [],
   "source": [
    "CSV = 'test.csv'"
   ]
  },
  {
   "cell_type": "code",
   "execution_count": 8,
   "metadata": {},
   "outputs": [],
   "source": [
    "data = pd.read_csv(CSV, encoding='utf-8')\n",
    "for id, url in enumerate(data['img_src']):\n",
    "    # print(f\"{id+1}: {url}\")\n",
    "    imgdir = './images'\n",
    "    os.makedirs(imgdir, exist_ok=True)\n",
    "    filename = f\"image{id+1}.jpg\"\n",
    "    filepath = imgdir + '/' + filename\n",
    "    try:\n",
    "        req.urlretrieve(url, filepath)\n",
    "    except Exception as error:\n",
    "        print(f\"error: {error}\")"
   ]
  },
  {
   "cell_type": "code",
   "execution_count": null,
   "metadata": {},
   "outputs": [],
   "source": []
  }
 ],
 "metadata": {
  "interpreter": {
   "hash": "f26b6c0f48464aa4b704b60d541189226b2c2ce7e8b103a0db2865720c40a829"
  },
  "kernelspec": {
   "display_name": "Python 3.9.6 64-bit ('bookmark_app': conda)",
   "language": "python",
   "name": "python3"
  },
  "language_info": {
   "codemirror_mode": {
    "name": "ipython",
    "version": 3
   },
   "file_extension": ".py",
   "mimetype": "text/x-python",
   "name": "python",
   "nbconvert_exporter": "python",
   "pygments_lexer": "ipython3",
   "version": "3.9.6"
  },
  "orig_nbformat": 4
 },
 "nbformat": 4,
 "nbformat_minor": 2
}
